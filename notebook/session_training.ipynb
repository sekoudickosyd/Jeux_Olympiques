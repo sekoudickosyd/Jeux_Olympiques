{
 "cells": [
  {
   "cell_type": "code",
   "execution_count": null,
   "metadata": {},
   "outputs": [],
   "source": []
  }
 ],
 "metadata": {
  "interpreter": {
   "hash": "84584a9368ab4eeed787d5b487f897895a16777072df883b6f91b9c63cce62e2"
  },
  "kernelspec": {
   "display_name": "Python 3.9.7 ('DataScience')",
   "language": "python",
   "name": "python3"
  },
  "language_info": {
   "name": "python",
   "version": "3.9.7"
  },
  "orig_nbformat": 4
 },
 "nbformat": 4,
 "nbformat_minor": 2
}
